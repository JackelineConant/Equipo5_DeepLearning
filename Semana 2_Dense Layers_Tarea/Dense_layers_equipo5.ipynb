{
 "cells": [
  {
   "cell_type": "markdown",
   "metadata": {},
   "source": [
    "# Semana 2: Dense Layers\n",
    "#### Equipo 5:\n",
    "Jackeline Conant Rubalcava A01280544 \\\n",
    "Javier Eduardo Corrales Cardoza A01742328 \\\n",
    "José Andrés Orantes Guillén A01174130 \\\n",
    "Francisco Salas Porras A01177893 \\\n",
    "Luis Mario Lozoya Chairez A00833364\n"
   ]
  },
  {
   "cell_type": "code",
   "execution_count": null,
   "metadata": {},
   "outputs": [],
   "source": []
  }
 ],
 "metadata": {
  "language_info": {
   "name": "python"
  }
 },
 "nbformat": 4,
 "nbformat_minor": 2
}
