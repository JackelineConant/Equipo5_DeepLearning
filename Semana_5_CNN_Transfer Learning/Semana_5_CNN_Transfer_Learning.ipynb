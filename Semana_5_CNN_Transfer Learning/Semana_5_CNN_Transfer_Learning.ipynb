{
 "cells": [
  {
   "cell_type": "markdown",
   "metadata": {},
   "source": [
    "# Semana 5: CNN + Transfer Learning\n",
    "#### Equipo 5:\n",
    "Jackeline Conant Rubalcava A01280544 \\\n",
    "Javier Eduardo Corrales Cardoza A01742328 \\\n",
    "José Andrés Orantes Guillén A01174130 \\\n",
    "Francisco Salas Porras A01177893 \\\n",
    "Luis Mario Lozoya Chairez A00833364"
   ]
  },
  {
   "cell_type": "markdown",
   "metadata": {},
   "source": [
    "## Introducción al Notebook\n",
    "\n",
    "Hello"
   ]
  }
 ],
 "metadata": {
  "language_info": {
   "name": "python"
  }
 },
 "nbformat": 4,
 "nbformat_minor": 2
}
