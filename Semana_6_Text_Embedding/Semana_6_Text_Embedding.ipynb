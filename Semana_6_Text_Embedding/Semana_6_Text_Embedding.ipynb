{
 "cells": [
  {
   "cell_type": "markdown",
   "metadata": {},
   "source": [
    "# Semana 6: Text Embedding\n",
    "#### Equipo 5:\n",
    "Jackeline Conant Rubalcava A01280544 \\\n",
    "Javier Eduardo Corrales Cardoza A01742328 \\\n",
    "José Andrés Orantes Guillén A01174130 \\\n",
    "Francisco Salas Porras A01177893 \\\n",
    "Luis Mario Lozoya Chairez A00833364"
   ]
  },
  {
   "cell_type": "markdown",
   "metadata": {},
   "source": [
    "## Introducción al Notebook\n",
    "\n",
    "Este notebook tiene como objetivo desarrollar un modelo que realice clasificación a través de Text Embedding. Se usará un dataset con datos de noticias falsas, por lo que se buscará la detección de estas. Se cuenta con dos archivos csv, el train contiene 10223 instancias, y 3 columnas.\n",
    "\n",
    "\n",
    "### será?\n",
    "A lo largo de este notebook, se realizarán las siguientes actividades:\n",
    "\n",
    "1. **Carga de datos**: Se cargarán los datos del dataset.\n",
    "2. **Exploración, explicación y limpieza de datos**: Se visualizarán algunas imágenes del conjunto de datos, además se visualizará la estructura de los datos y se prepararán los datos para ser utilizados en el entrenamiento del modelo.\n",
    "3. **Preprocesamiento de datos**: Se reescalan los datos para que puedan ser procesados por el modelo\n",
    "4. **Data Agumentation**: Se muestra la configuración de data augmentation que se utilizó.\n",
    "5. **Transfer Learning**: Se muestra el modelo utilizado para transfer learning.\n",
    "5. **Construcción del modelo**: Se construirá un modelo de red neuronal convolucional.\n",
    "6. **Entrenamiento del modelo**: Se entrenará el modelo con los datos de entrenamiento.\n",
    "7. **Evaluación del modelo**: Se evaluará el rendimiento del modelo utilizando los datos de prueba.\n",
    "8. **Conclusiones**: Se concluye el tema con reflexiones de los resultados obtenidos\n",
    "\n",
    "El objetivo final es predecir la categoría de cada categoría a partir de las imágenes proporcionadas y los métodos de data augmentation, utilizando un modelo de red neuronal convolucional."
   ]
  }
 ],
 "metadata": {
  "kernelspec": {
   "display_name": "base",
   "language": "python",
   "name": "python3"
  },
  "language_info": {
   "codemirror_mode": {
    "name": "ipython",
    "version": 3
   },
   "file_extension": ".py",
   "mimetype": "text/x-python",
   "name": "python",
   "nbconvert_exporter": "python",
   "pygments_lexer": "ipython3",
   "version": "3.12.4"
  }
 },
 "nbformat": 4,
 "nbformat_minor": 2
}
